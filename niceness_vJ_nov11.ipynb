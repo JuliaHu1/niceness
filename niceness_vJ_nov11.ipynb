{
 "cells": [
  {
   "cell_type": "code",
   "execution_count": 3,
   "metadata": {},
   "outputs": [],
   "source": [
    "class Event:\n",
    "\n",
    "\tdef __init__(self, options, self_costs, other_benefits, being_watched):\n",
    "\t\tself.options = options # possible actions\n",
    "\t\tself.self_costs = self_costs # cost of an action\n",
    "\t\tself.other_benefits = other_benefits # an action's benefits to others\n",
    "\t\tself.being_watched = being_watched # an action's ulterior benefit"
   ]
  },
  {
   "cell_type": "code",
   "execution_count": 4,
   "metadata": {},
   "outputs": [],
   "source": [
    "import numpy as np\n",
    "\n",
    "class Agent:\n",
    "\n",
    "\tdef __init__(self, self_motive=1, other_motive=1, ulterior_motive=1,tau=1):\n",
    "\t\tself.self_motive = self_motive # an agent's extent of selfish motivation (stinginess)\n",
    "\t\tself.other_motive = other_motive # an agent's extent of altruistic motivation (interest in others) \n",
    "\t\tself.ulterior_motive = ulterior_motive # an agent's extent of ulterior motivation (interest in extrinsic benefits)\n",
    "\t\tself.tau = tau # an agent's rationality \n",
    "\n",
    "\tdef GetChoiceProb(self, myevent, choice):\n",
    "\t\tutilities = [-myevent.self_costs[i]*(self.self_motive+.5)+\n",
    "                     (myevent.being_watched[i]*(self.ulterior_motive))+\n",
    "                     myevent.other_benefits[i]*self.other_motive for i in range(len(myevent.options))] \n",
    "        #^the utility of each event feature is weighted by an agent's relevant motive\n",
    "        #add +.5 to selfish motive so that less costly options are generally preferred\n",
    "\t\tutilities = [i - max(utilities) for i in utilities] #softmax\n",
    "\t\tvalues = [np.exp(i/self.tau) for i in utilities] #softmax\n",
    "\t\tvalues = [i/sum(values) for i in values] #softmax\n",
    "\t\treturn(values[choice]) #likelihood of an action being chosen over another, given a specified level of each motive\n",
    "\n",
    "\tdef SetParameters(self, self_motive, other_motive, ulterior_motive):\n",
    "\t\tself.self_motive = self_motive\n",
    "\t\tself.other_motive = other_motive\n",
    "\t\tself.ulterior_motive = ulterior_motive"
   ]
  },
  {
   "cell_type": "code",
   "execution_count": 5,
   "metadata": {},
   "outputs": [],
   "source": [
    "import numpy as np\n",
    "import matplotlib.pyplot as plt\n",
    "\n",
    "\n",
    "class Observer:\n",
    "\n",
    "\tdef __init__(self, MyEvent, MyAgent):\n",
    "\t\tself.MyEvent = MyEvent\n",
    "\t\tself.MyAgent = MyAgent\n",
    "\n",
    "\tdef ToM(self, ObservedChoice, samples=5000): \n",
    "\t\tSelf_Motive = [np.random.uniform(0,1) for i in range(samples)] #randomly sample different levels of each motive\n",
    "\t\tOther_Motive = [np.random.uniform(0,1) for i in range(samples)]\n",
    "\t\tUlterior_Motive = [np.random.uniform(0,1) for i in range(samples)]\n",
    "\t\tProbability = [0] * samples\n",
    "\t\tfor x in range(samples):\n",
    "\t\t\tself.MyAgent.SetParameters(Self_Motive[x], Other_Motive[x], Ulterior_Motive[x]) \n",
    "\t\t\tProbability[x] = self.MyAgent.GetChoiceProb(self.MyEvent, ObservedChoice) #get probabilities associated with sampled motive levels\n",
    "\t\t# Normalize because this is Monte Carlo sampling\n",
    "\t\tProbability = [i/sum(Probability) for i in Probability]\n",
    "\t\treturn (\"estimated trait Self_Motive values\",np.dot(Self_Motive,Probability),\n",
    "                \"estimated trait Other_Motive values\",np.dot(Other_Motive,Probability),\n",
    "                \"estimated trait Ulterior_Motive values\",np.dot(Ulterior_Motive,Probability)) #get expected value of each motive\n",
    "####ignore below####\n",
    "#notes from meeting:\n",
    "##z score model predictions and judgements\n",
    "##joint distribution, values of each and probabilities associated (asking how much they care about this thing over that thing, asking how confident you are that they are altruistic, asking how likelihood of )\n",
    "    \n",
    "#for plotting     \n",
    "\t\treturn (plt.scatter(TraitSelfishness,TraitAltruism,c=Probability,alpha=.5),\n",
    "                plt.ylabel(\"altruism\"),\n",
    "                plt.xlabel(\"selfishness\"),\n",
    "                plt.colorbar(),\n",
    "                plt.show()\n",
    "                ,\"estimated trait Selfishness values\",np.dot(TraitSelfishness,Probability),\n",
    "                \"estimated trait Altruism values\",np.dot(TraitAltruism,Probability)) #vmin=0,vmax=1\n",
    "\n",
    "    \n",
    "    \n",
    "import matplotlib as mp\n",
    "#scatterplot, plot trait selfishness, and plot trait altruism\n",
    "#color by probabilitiy"
   ]
  },
  {
   "cell_type": "code",
   "execution_count": 6,
   "metadata": {},
   "outputs": [
    {
     "data": {
      "text/plain": [
       "('estimated trait Self_Motive values',\n",
       " 0.01320375830055355,\n",
       " 'estimated trait Other_Motive values',\n",
       " 0.9843235019374954,\n",
       " 'estimated trait Ulterior_Motive values',\n",
       " 0.7017413810528961)"
      ]
     },
     "execution_count": 6,
     "metadata": {},
     "output_type": "execute_result"
    }
   ],
   "source": [
    "#run model#\n",
    "\n",
    "MyEvent = Event(options=         [0, 1], # actions\n",
    "                self_costs=      [1000, 0], # agent's utils on actions\n",
    "                other_benefits=  [400, 0], # agent's belief of receiver's util on actions\n",
    "                being_watched=   [1, 0])\n",
    "MyAgent = Agent()\n",
    "# Create an observer with an event and a mental model of the agent\n",
    "MyObserver = Observer(MyEvent, MyAgent)\n",
    "MyObserver.ToM(0) # Uncertain.\n",
    "\n",
    "#test: ask real participants, given a chosen action\n",
    "##\"how selfish do you think this person is from 0-100\" (not at all - extremely)\n",
    "##\"how altruistic do you think this person is from 0-100\" (not at all - extremely)\n",
    "##\"how ulteriorly motivated do you think this person is from 0-100\" (not at all - extremely)"
   ]
  },
  {
   "cell_type": "code",
   "execution_count": 22,
   "metadata": {},
   "outputs": [],
   "source": [
    "#UNINFORMATIVE: costless to help, costly not to help\n",
    "\n",
    "result1 = []\n",
    "\n",
    "for x in range(5): #repeat the loop below 5 times\n",
    "    for i in range(0,11):\n",
    "        MyEvent.agentvalue = [i,-(10-i)]\n",
    "        MyEvent.agentbeliefs = [10-i,i]\n",
    "        row = []\n",
    "        row.append(MyEvent.agentvalue)\n",
    "        row.append(MyEvent.agentbeliefs)\n",
    "        row.append(MyObserver.ToM(0))\n",
    "        result1.append(row)\n",
    "        \n",
    "result1 = np.array(result1)\n",
    "new_result1 = result1.reshape(55,6)\n",
    "np.savetxt('result1',new_result1)"
   ]
  },
  {
   "cell_type": "code",
   "execution_count": 6,
   "metadata": {},
   "outputs": [
    {
     "name": "stdout",
     "output_type": "stream",
     "text": [
      "event 0 | chosen: [0, 10] unchosen: [10, 0]\n",
      "event 1 | chosen: [1, 9] unchosen: [9, 1]\n",
      "event 2 | chosen: [2, 8] unchosen: [8, 2]\n",
      "event 3 | chosen: [3, 7] unchosen: [7, 3]\n",
      "event 4 | chosen: [4, 6] unchosen: [6, 4]\n",
      "event 5 | chosen: [5, 5] unchosen: [5, 5]\n",
      "event 6 | chosen: [6, 4] unchosen: [4, 6]\n",
      "event 7 | chosen: [7, 3] unchosen: [3, 7]\n",
      "event 8 | chosen: [8, 2] unchosen: [2, 8]\n",
      "event 9 | chosen: [9, 1] unchosen: [1, 9]\n",
      "event 10 | chosen: [10, 0] unchosen: [0, 10]\n"
     ]
    }
   ],
   "source": [
    "for i in range(0,11):\n",
    "    MyEvent.agentvalue = [i,10-i]\n",
    "    MyEvent.agentbeliefs = [10-i,i]\n",
    "    print(\"event\",i, \"| chosen:\", [MyEvent.agentvalue[0],MyEvent.agentbeliefs[0]], \"unchosen:\",[MyEvent.agentvalue[1],MyEvent.agentbeliefs[1]])"
   ]
  },
  {
   "cell_type": "code",
   "execution_count": 7,
   "metadata": {},
   "outputs": [],
   "source": [
    "#UNINFORMATIVE: no counterfactual, both options the same\n",
    "\n",
    "result2 = []\n",
    "\n",
    "for x in range(5): #repeat the loop below 5 times\n",
    "    for i in range(0,11):\n",
    "        MyEvent.agentvalue = [i,i]\n",
    "        MyEvent.agentbeliefs = [i,i]\n",
    "        row = []\n",
    "        row.append(MyEvent.agentvalue)\n",
    "        row.append(MyEvent.agentbeliefs)\n",
    "        row.append(MyObserver.ToM(0))\n",
    "        result2.append(row)\n",
    "        \n",
    "result2 = np.array(result2)\n",
    "new_result2 = result2.reshape(55,6)\n",
    "np.savetxt('result2',new_result2)"
   ]
  },
  {
   "cell_type": "code",
   "execution_count": 8,
   "metadata": {},
   "outputs": [
    {
     "name": "stdout",
     "output_type": "stream",
     "text": [
      "event 0 | chosen: [0, 0] unchosen: [0, 0]\n",
      "event 1 | chosen: [1, 1] unchosen: [1, 1]\n",
      "event 2 | chosen: [2, 2] unchosen: [2, 2]\n",
      "event 3 | chosen: [3, 3] unchosen: [3, 3]\n",
      "event 4 | chosen: [4, 4] unchosen: [4, 4]\n",
      "event 5 | chosen: [5, 5] unchosen: [5, 5]\n",
      "event 6 | chosen: [6, 6] unchosen: [6, 6]\n",
      "event 7 | chosen: [7, 7] unchosen: [7, 7]\n",
      "event 8 | chosen: [8, 8] unchosen: [8, 8]\n",
      "event 9 | chosen: [9, 9] unchosen: [9, 9]\n",
      "event 10 | chosen: [10, 10] unchosen: [10, 10]\n"
     ]
    }
   ],
   "source": [
    "for i in range(0,11):\n",
    "    MyEvent.agentvalue = [i,i]\n",
    "    MyEvent.agentbeliefs = [i,i]\n",
    "    print(\"event\",i, \"| chosen:\", [MyEvent.agentvalue[0],MyEvent.agentbeliefs[0]], \"unchosen:\",[MyEvent.agentvalue[1],MyEvent.agentbeliefs[1]])"
   ]
  },
  {
   "cell_type": "code",
   "execution_count": null,
   "metadata": {},
   "outputs": [],
   "source": [
    "#INFORMATIVE: costly to help, costless not to help\n",
    "\n",
    "result3 = []\n",
    "\n",
    "for x in range(5): #repeat the loop below 5 times\n",
    "    for i in range(0,11):\n",
    "        MyEvent.agentvalue = [i,0]\n",
    "        MyEvent.agentbeliefs = [i,0]\n",
    "        row = []\n",
    "        row.append(MyEvent.agentvalue)\n",
    "        row.append(MyEvent.agentbeliefs)\n",
    "        row.append(MyObserver.ToM(0))\n",
    "        result3.append(row)\n",
    "\n",
    "result3 = np.array(result3)\n",
    "result3\n",
    "new_result3 = result3.reshape(55,6)\n",
    "np.savetxt('result3',new_result3)"
   ]
  },
  {
   "cell_type": "code",
   "execution_count": 24,
   "metadata": {},
   "outputs": [
    {
     "name": "stdout",
     "output_type": "stream",
     "text": [
      "event 0 | chosen: [0, 0] unchosen: [0, 0]\n",
      "event 1 | chosen: [1, 1] unchosen: [0, 0]\n",
      "event 2 | chosen: [2, 2] unchosen: [0, 0]\n",
      "event 3 | chosen: [3, 3] unchosen: [0, 0]\n",
      "event 4 | chosen: [4, 4] unchosen: [0, 0]\n",
      "event 5 | chosen: [5, 5] unchosen: [0, 0]\n",
      "event 6 | chosen: [6, 6] unchosen: [0, 0]\n",
      "event 7 | chosen: [7, 7] unchosen: [0, 0]\n",
      "event 8 | chosen: [8, 8] unchosen: [0, 0]\n",
      "event 9 | chosen: [9, 9] unchosen: [0, 0]\n",
      "event 10 | chosen: [10, 10] unchosen: [0, 0]\n"
     ]
    }
   ],
   "source": [
    "for i in range(0,11):\n",
    "    MyEvent.agentvalue = [i,0,1,2,3,4,5,6,7,8,9,10]\n",
    "    MyEvent.agentbeliefs = [i,0,1,2,3,4,5,6,7,8,9,10]\n",
    "    print(\"event\",i, \"| chosen:\", [MyEvent.agentvalue[0],MyEvent.agentbeliefs[0]], \"unchosen:\",[MyEvent.agentvalue[1],MyEvent.agentbeliefs[1]])"
   ]
  },
  {
   "cell_type": "code",
   "execution_count": 11,
   "metadata": {},
   "outputs": [],
   "source": [
    "#INFORMATIVE: giving exponentially more or less\n",
    "\n",
    "result4 = []\n",
    "\n",
    "for x in range(5): #repeat the loop below 5 times\n",
    "    for i in range(0,11):\n",
    "        MyEvent.agentvalue = [1,5**(5-i)]\n",
    "        MyEvent.agentbeliefs = [1,5**(5-i)]\n",
    "        row = []\n",
    "        row.append(MyEvent.agentvalue)\n",
    "        row.append(MyEvent.agentbeliefs)\n",
    "        row.append(MyObserver.ToM(0))\n",
    "        result4.append(row)\n",
    "\n",
    "result4 = np.array(result4)\n",
    "new_result4 = result4.reshape(55,6)\n",
    "np.savetxt('result4',new_result4)"
   ]
  },
  {
   "cell_type": "code",
   "execution_count": 12,
   "metadata": {},
   "outputs": [
    {
     "name": "stdout",
     "output_type": "stream",
     "text": [
      "event 0 | chosen: [1, 1] unchosen: [3125, 3125]\n",
      "event 1 | chosen: [1, 1] unchosen: [625, 625]\n",
      "event 2 | chosen: [1, 1] unchosen: [125, 125]\n",
      "event 3 | chosen: [1, 1] unchosen: [25, 25]\n",
      "event 4 | chosen: [1, 1] unchosen: [5, 5]\n",
      "event 5 | chosen: [1, 1] unchosen: [1, 1]\n",
      "event 6 | chosen: [1, 1] unchosen: [0.2, 0.2]\n",
      "event 7 | chosen: [1, 1] unchosen: [0.04, 0.04]\n",
      "event 8 | chosen: [1, 1] unchosen: [0.008, 0.008]\n",
      "event 9 | chosen: [1, 1] unchosen: [0.0016, 0.0016]\n",
      "event 10 | chosen: [1, 1] unchosen: [0.00032, 0.00032]\n"
     ]
    }
   ],
   "source": [
    "for i in range(0,11):\n",
    "    MyEvent.agentvalue = [1,5**(5-i)]\n",
    "    MyEvent.agentbeliefs = [1,5**(5-i)]\n",
    "    print(\"event\",i, \"| chosen:\", [MyEvent.agentvalue[0],MyEvent.agentbeliefs[0]], \"unchosen:\",[MyEvent.agentvalue[1],MyEvent.agentbeliefs[1]])"
   ]
  },
  {
   "cell_type": "code",
   "execution_count": 13,
   "metadata": {},
   "outputs": [],
   "source": [
    "#UNINFORMATIVE: costly or shrewdly giving with no added benefit\n",
    "\n",
    "result5 = []\n",
    "\n",
    "for x in range(5): #repeat the loop below 5 times\n",
    "    for i in range(0,11):\n",
    "        MyEvent.agentvalue = [2**(5-i),1]\n",
    "        MyEvent.agentbeliefs = [1,1]\n",
    "        row = []\n",
    "        row.append(MyEvent.agentvalue)\n",
    "        row.append(MyEvent.agentbeliefs)\n",
    "        row.append(MyObserver.ToM(0))\n",
    "        result5.append(row)\n",
    "\n",
    "result5 = np.array(result5)\n",
    "new_result5 = result5.reshape(55,6)\n",
    "np.savetxt('result5',new_result5)"
   ]
  },
  {
   "cell_type": "code",
   "execution_count": 14,
   "metadata": {},
   "outputs": [
    {
     "name": "stdout",
     "output_type": "stream",
     "text": [
      "event 0 | chosen: [32, 1] unchosen: [1, 1]\n",
      "event 1 | chosen: [16, 1] unchosen: [1, 1]\n",
      "event 2 | chosen: [8, 1] unchosen: [1, 1]\n",
      "event 3 | chosen: [4, 1] unchosen: [1, 1]\n",
      "event 4 | chosen: [2, 1] unchosen: [1, 1]\n",
      "event 5 | chosen: [1, 1] unchosen: [1, 1]\n",
      "event 6 | chosen: [0.5, 1] unchosen: [1, 1]\n",
      "event 7 | chosen: [0.25, 1] unchosen: [1, 1]\n",
      "event 8 | chosen: [0.125, 1] unchosen: [1, 1]\n",
      "event 9 | chosen: [0.0625, 1] unchosen: [1, 1]\n",
      "event 10 | chosen: [0.03125, 1] unchosen: [1, 1]\n"
     ]
    }
   ],
   "source": [
    "for i in range(0,11):\n",
    "    MyEvent.agentvalue = [2**(5-i),1]\n",
    "    MyEvent.agentbeliefs = [1,1]\n",
    "    print(\"event\",i, \"| chosen:\", [MyEvent.agentvalue[0],MyEvent.agentbeliefs[0]], \"unchosen:\",[MyEvent.agentvalue[1],MyEvent.agentbeliefs[1]])"
   ]
  },
  {
   "cell_type": "code",
   "execution_count": 15,
   "metadata": {},
   "outputs": [],
   "source": [
    "#INFORMATIVE: sacrificing for the greater good\n",
    "\n",
    "result6 = []\n",
    "\n",
    "for x in range(5): #repeat the loop below 5 times\n",
    "    for i in range(0,11):\n",
    "        MyEvent.agentvalue = [2.5**(5-i),1]\n",
    "        MyEvent.agentbeliefs = [2**(5-i),1]\n",
    "        row = []\n",
    "        row.append(MyEvent.agentvalue)\n",
    "        row.append(MyEvent.agentbeliefs)\n",
    "        row.append(MyObserver.ToM(0))\n",
    "        result6.append(row)\n",
    "\n",
    "result6 = np.array(result6)\n",
    "new_result6 = result6.reshape(55,6)\n",
    "np.savetxt('result6',new_result6)"
   ]
  },
  {
   "cell_type": "code",
   "execution_count": 16,
   "metadata": {},
   "outputs": [
    {
     "name": "stdout",
     "output_type": "stream",
     "text": [
      "event 0 | chosen: [97.65625, 32] unchosen: [1, 1]\n",
      "event 1 | chosen: [39.0625, 16] unchosen: [1, 1]\n",
      "event 2 | chosen: [15.625, 8] unchosen: [1, 1]\n",
      "event 3 | chosen: [6.25, 4] unchosen: [1, 1]\n",
      "event 4 | chosen: [2.5, 2] unchosen: [1, 1]\n",
      "event 5 | chosen: [1.0, 1] unchosen: [1, 1]\n",
      "event 6 | chosen: [0.4, 0.5] unchosen: [1, 1]\n",
      "event 7 | chosen: [0.16, 0.25] unchosen: [1, 1]\n",
      "event 8 | chosen: [0.064, 0.125] unchosen: [1, 1]\n",
      "event 9 | chosen: [0.0256, 0.0625] unchosen: [1, 1]\n",
      "event 10 | chosen: [0.01024, 0.03125] unchosen: [1, 1]\n"
     ]
    }
   ],
   "source": [
    "for i in range(0,11):\n",
    "    MyEvent.agentvalue = [2.5**(5-i),1]\n",
    "    MyEvent.agentbeliefs = [2**(5-i),1]\n",
    "    print(\"event\",i, \"| chosen:\", [MyEvent.agentvalue[0],MyEvent.agentbeliefs[0]], \"unchosen:\",[MyEvent.agentvalue[1],MyEvent.agentbeliefs[1]])"
   ]
  },
  {
   "cell_type": "code",
   "execution_count": 17,
   "metadata": {},
   "outputs": [],
   "source": [
    "#INFORMATIVE: sacrificing for the greater good\n",
    "\n",
    "result7 = []\n",
    "\n",
    "for x in range(5): #repeat the loop below 5 times\n",
    "    for i in range(0,11):\n",
    "        MyEvent.agentvalue = [i*4,i*1]\n",
    "        MyEvent.agentbeliefs = [i*8,i*7.8]\n",
    "        row = []\n",
    "        row.append(MyEvent.agentvalue)\n",
    "        row.append(MyEvent.agentbeliefs)\n",
    "        row.append(MyObserver.ToM(0))\n",
    "        result7.append(row)\n",
    "\n",
    "result7 = np.array(result7)\n",
    "new_result7 = result7.reshape(55,6)\n",
    "np.savetxt('result7',new_result7)"
   ]
  },
  {
   "cell_type": "code",
   "execution_count": 18,
   "metadata": {},
   "outputs": [
    {
     "name": "stdout",
     "output_type": "stream",
     "text": [
      "event 0 | chosen: [0, 0] unchosen: [0, 0.0]\n",
      "event 1 | chosen: [4, 8] unchosen: [1, 7.8]\n",
      "event 2 | chosen: [8, 16] unchosen: [2, 15.6]\n",
      "event 3 | chosen: [12, 24] unchosen: [3, 23.4]\n",
      "event 4 | chosen: [16, 32] unchosen: [4, 31.2]\n",
      "event 5 | chosen: [20, 40] unchosen: [5, 39.0]\n",
      "event 6 | chosen: [24, 48] unchosen: [6, 46.8]\n",
      "event 7 | chosen: [28, 56] unchosen: [7, 54.6]\n",
      "event 8 | chosen: [32, 64] unchosen: [8, 62.4]\n",
      "event 9 | chosen: [36, 72] unchosen: [9, 70.2]\n",
      "event 10 | chosen: [40, 80] unchosen: [10, 78.0]\n"
     ]
    }
   ],
   "source": [
    "for i in range(0,11):\n",
    "    MyEvent.agentvalue = [i*4,i*1]\n",
    "    MyEvent.agentbeliefs = [i*8,i*7.8]\n",
    "    print(\"event\",i, \"| chosen:\", [MyEvent.agentvalue[0],MyEvent.agentbeliefs[0]], \"unchosen:\",[MyEvent.agentvalue[1],MyEvent.agentbeliefs[1]])"
   ]
  },
  {
   "cell_type": "code",
   "execution_count": null,
   "metadata": {},
   "outputs": [],
   "source": []
  },
  {
   "cell_type": "code",
   "execution_count": null,
   "metadata": {},
   "outputs": [],
   "source": []
  }
 ],
 "metadata": {
  "kernelspec": {
   "display_name": "Python 3",
   "language": "python",
   "name": "python3"
  },
  "language_info": {
   "codemirror_mode": {
    "name": "ipython",
    "version": 3
   },
   "file_extension": ".py",
   "mimetype": "text/x-python",
   "name": "python",
   "nbconvert_exporter": "python",
   "pygments_lexer": "ipython3",
   "version": "3.7.1"
  }
 },
 "nbformat": 4,
 "nbformat_minor": 2
}
